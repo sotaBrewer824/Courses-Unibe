{
 "cells": [
  {
   "cell_type": "code",
   "execution_count": 1,
   "id": "76cbe873-9f78-4cb2-8d6f-e66a634ab874",
   "metadata": {},
   "outputs": [],
   "source": [
    "from sklearn.naive_bayes import MultinomialNB\n",
    "from sklearn.feature_extraction.text import TfidfVectorizer, CountVectorizer\n",
    "from sklearn.pipeline import make_pipeline\n",
    "from sklearn.metrics import classification_report\n",
    "from sklearn.metrics import roc_curve, auc\n",
    "from datasets import load_dataset\n",
    "import matplotlib.pyplot as plt\n",
    "import pandas as pd"
   ]
  },
  {
   "cell_type": "code",
   "execution_count": null,
   "id": "c6f31b89-8e41-448f-980f-4db96088c263",
   "metadata": {},
   "outputs": [],
   "source": [
    "dataset = load_dataset(\"SetFit/enron_spam\")\n",
    "print(dataset)"
   ]
  },
  {
   "cell_type": "code",
   "execution_count": null,
   "id": "9fa7b147-902f-4173-866a-f0866d996377",
   "metadata": {},
   "outputs": [],
   "source": [
    "dataset = dataset.map(lambda example: {\n",
    "    \"text\": f\"subject: {example['subject']}\\ncontent: {example['message']}\",\n",
    "    \"label\": example[\"label_text\"]\n",
    "}, remove_columns=[col for col in dataset[\"train\"].features if col not in ('text', 'label')])\n",
    "print(dataset)"
   ]
  },
  {
   "cell_type": "code",
   "execution_count": null,
   "id": "9ed2c133-0d43-4f4c-b39f-9df2512040d8",
   "metadata": {},
   "outputs": [],
   "source": [
    "sample = dataset[\"train\"][14]\n",
    "\n",
    "print(\"Example of an e-mail in the dataset:\\n\")\n",
    "print(sample[\"text\"])\n",
    "print(\"\\nlabel:\", sample[\"label\"])"
   ]
  },
  {
   "cell_type": "code",
   "execution_count": null,
   "id": "4f6ad05f-d002-40f0-8a77-12c66f3cf6a4",
   "metadata": {},
   "outputs": [],
   "source": [
    "model_tfidf = make_pipeline(TfidfVectorizer(), MultinomialNB())\n",
    "model_bow = make_pipeline(CountVectorizer(), MultinomialNB())"
   ]
  },
  {
   "cell_type": "code",
   "execution_count": null,
   "id": "b29f8110-d9a7-4516-a939-f83589d91ee1",
   "metadata": {},
   "outputs": [],
   "source": [
    "model_tfidf.fit(dataset[\"train\"][\"text\"], dataset[\"train\"][\"label\"])\n",
    "model_bow.fit(dataset[\"train\"][\"text\"], dataset[\"train\"][\"label\"])\n",
    "print(\"Models fitted\")"
   ]
  },
  {
   "cell_type": "code",
   "execution_count": null,
   "id": "ca54f1a5-55f6-4b05-9766-418a635433a3",
   "metadata": {},
   "outputs": [],
   "source": [
    "samples = [\n",
    "    \"You inherited 1M USD!!\",\n",
    "    \"This seminar is pretty cool!\",\n",
    "    \"free iPhone in exchange for credit card information\",\n",
    "    \"Reminder: free iPhone\"\n",
    "]\n",
    "predictions_tfidf = model_tfidf.predict(samples)\n",
    "predictions_bow = model_bow.predict(samples)\n",
    "\n",
    "pd.DataFrame({\n",
    "    \"Message\": samples,\n",
    "    \"Prediction (BoW)\": predictions_bow,\n",
    "    \"Prediction (TF-IDF)\": predictions_tfidf,\n",
    "})"
   ]
  },
  {
   "cell_type": "code",
   "execution_count": null,
   "id": "67179893-1ff6-4560-ba5d-357a78c791d2",
   "metadata": {},
   "outputs": [],
   "source": [
    "y_true = dataset[\"test\"][\"label\"]"
   ]
  },
  {
   "cell_type": "code",
   "execution_count": null,
   "id": "44991a71-f51c-4334-82ae-2ace362c2157",
   "metadata": {},
   "outputs": [],
   "source": [
    "y_pred_bow = model_bow.predict(dataset[\"test\"][\"text\"])\n",
    "print(classification_report(y_true=y_true, y_pred=y_pred_bow, digits=3))"
   ]
  },
  {
   "cell_type": "code",
   "execution_count": null,
   "id": "7da02747-dbc6-431a-8b3d-319ba9e5cf2f",
   "metadata": {},
   "outputs": [],
   "source": [
    "y_pred_tfidf = model_tfidf.predict(dataset[\"test\"][\"text\"])\n",
    "print(classification_report(y_true=y_true, y_pred=y_pred_tfidf, digits=3))"
   ]
  },
  {
   "cell_type": "code",
   "execution_count": null,
   "id": "6f549446-107d-44e6-9f4e-144feb42a60d",
   "metadata": {},
   "outputs": [],
   "source": [
    "spam_class_index = model_bow.classes_.tolist().index(\"spam\")\n",
    "probabilities = model_bow.predict_proba(dataset[\"test\"][\"text\"])  # Shape (2000, 2)\n",
    "probabilities = probabilities[:, spam_class_index]\n",
    "\n",
    "fpr, tpr, _ = roc_curve(y_true, probabilities, pos_label=\"spam\")\n",
    "roc_auc = auc(fpr, tpr)\n",
    "\n",
    "plt.figure()\n",
    "plt.plot(fpr, tpr, color='darkorange', lw=2, label='ROC curve (area = %0.2f)' % roc_auc)\n",
    "plt.plot([0, 1], [0, 1], color='navy', lw=2, linestyle='--')\n",
    "plt.xlim([0.0, 1.0])\n",
    "plt.ylim([0.0, 1.05])\n",
    "plt.xlabel('False Positive Rate')\n",
    "plt.ylabel('True Positive Rate')\n",
    "plt.title('Receiver Operating Characteristic')\n",
    "plt.legend(loc=\"lower right\")\n",
    "plt.show()"
   ]
  }
 ],
 "metadata": {
  "kernelspec": {
   "display_name": "Python 3 (ipykernel)",
   "language": "python",
   "name": "python3"
  },
  "language_info": {
   "codemirror_mode": {
    "name": "ipython",
    "version": 3
   },
   "file_extension": ".py",
   "mimetype": "text/x-python",
   "name": "python",
   "nbconvert_exporter": "python",
   "pygments_lexer": "ipython3",
   "version": "3.11.10"
  }
 },
 "nbformat": 4,
 "nbformat_minor": 5
}
