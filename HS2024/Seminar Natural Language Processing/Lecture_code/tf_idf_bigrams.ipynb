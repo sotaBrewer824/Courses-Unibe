{
 "cells": [
  {
   "cell_type": "code",
   "execution_count": 1,
   "id": "feaca302-af4d-4a61-bdd5-5e770d5e4d72",
   "metadata": {},
   "outputs": [],
   "source": [
    "from sklearn.feature_extraction.text import TfidfVectorizer\n",
    "import wikipedia\n",
    "import pandas as pd"
   ]
  },
  {
   "cell_type": "code",
   "execution_count": 2,
   "id": "d3c9d97b-845c-45b0-840c-3e3d34a787de",
   "metadata": {},
   "outputs": [],
   "source": [
    "corpus = [\n",
    "    wikipedia.page(\"Bern, Switzerland\").content,\n",
    "    wikipedia.page(\"Neuchâtel, Switzerland\").content,\n",
    "    wikipedia.page(\"Fribourg, Switzerland\").content,\n",
    "]"
   ]
  },
  {
   "cell_type": "code",
   "execution_count": 3,
   "id": "2d7e2b36-8acf-42f8-8b6e-af7fb89b8711",
   "metadata": {},
   "outputs": [],
   "source": [
    "vectorizer = TfidfVectorizer(stop_words=\"english\", ngram_range=(2,2))\n",
    "document_term_matrix = vectorizer.fit_transform(corpus)"
   ]
  },
  {
   "cell_type": "code",
   "execution_count": 4,
   "id": "a7fd1450-6c11-44bc-8557-0b8350a69573",
   "metadata": {},
   "outputs": [
    {
     "name": "stdout",
     "output_type": "stream",
     "text": [
      "Top 10 most distinguishing words:\n",
      "\n"
     ]
    },
    {
     "data": {
      "text/html": [
       "<div>\n",
       "<style scoped>\n",
       "    .dataframe tbody tr th:only-of-type {\n",
       "        vertical-align: middle;\n",
       "    }\n",
       "\n",
       "    .dataframe tbody tr th {\n",
       "        vertical-align: top;\n",
       "    }\n",
       "\n",
       "    .dataframe thead th {\n",
       "        text-align: right;\n",
       "    }\n",
       "</style>\n",
       "<table border=\"1\" class=\"dataframe\">\n",
       "  <thead>\n",
       "    <tr style=\"text-align: right;\">\n",
       "      <th></th>\n",
       "      <th>Bern</th>\n",
       "      <th>Neuchâtel</th>\n",
       "      <th>Fribourg</th>\n",
       "      <th>StandardDeviation</th>\n",
       "    </tr>\n",
       "  </thead>\n",
       "  <tbody>\n",
       "    <tr>\n",
       "      <th>canton fribourg</th>\n",
       "      <td>0.0000</td>\n",
       "      <td>0.000000</td>\n",
       "      <td>0.178940</td>\n",
       "      <td>0.103311</td>\n",
       "    </tr>\n",
       "    <tr>\n",
       "      <th>canton neuchâtel</th>\n",
       "      <td>0.0000</td>\n",
       "      <td>0.157057</td>\n",
       "      <td>0.000000</td>\n",
       "      <td>0.090677</td>\n",
       "    </tr>\n",
       "    <tr>\n",
       "      <th>born neuchâtel</th>\n",
       "      <td>0.0000</td>\n",
       "      <td>0.122155</td>\n",
       "      <td>0.000000</td>\n",
       "      <td>0.070526</td>\n",
       "    </tr>\n",
       "    <tr>\n",
       "      <th>la sarine</th>\n",
       "      <td>0.0000</td>\n",
       "      <td>0.000000</td>\n",
       "      <td>0.119294</td>\n",
       "      <td>0.068874</td>\n",
       "    </tr>\n",
       "    <tr>\n",
       "      <th>old city</th>\n",
       "      <td>0.0000</td>\n",
       "      <td>0.026543</td>\n",
       "      <td>0.113407</td>\n",
       "      <td>0.059317</td>\n",
       "    </tr>\n",
       "    <tr>\n",
       "      <th>general council</th>\n",
       "      <td>0.0000</td>\n",
       "      <td>0.106174</td>\n",
       "      <td>0.090726</td>\n",
       "      <td>0.057362</td>\n",
       "    </tr>\n",
       "    <tr>\n",
       "      <th>sur glâne</th>\n",
       "      <td>0.0000</td>\n",
       "      <td>0.000000</td>\n",
       "      <td>0.089470</td>\n",
       "      <td>0.051656</td>\n",
       "    </tr>\n",
       "    <tr>\n",
       "      <th>new castle</th>\n",
       "      <td>0.0000</td>\n",
       "      <td>0.087254</td>\n",
       "      <td>0.000000</td>\n",
       "      <td>0.050376</td>\n",
       "    </tr>\n",
       "    <tr>\n",
       "      <th>canton bern</th>\n",
       "      <td>0.0764</td>\n",
       "      <td>0.000000</td>\n",
       "      <td>0.000000</td>\n",
       "      <td>0.044110</td>\n",
       "    </tr>\n",
       "    <tr>\n",
       "      <th>winter olympics</th>\n",
       "      <td>0.0764</td>\n",
       "      <td>0.000000</td>\n",
       "      <td>0.000000</td>\n",
       "      <td>0.044110</td>\n",
       "    </tr>\n",
       "  </tbody>\n",
       "</table>\n",
       "</div>"
      ],
      "text/plain": [
       "                    Bern  Neuchâtel  Fribourg  StandardDeviation\n",
       "canton fribourg   0.0000   0.000000  0.178940           0.103311\n",
       "canton neuchâtel  0.0000   0.157057  0.000000           0.090677\n",
       "born neuchâtel    0.0000   0.122155  0.000000           0.070526\n",
       "la sarine         0.0000   0.000000  0.119294           0.068874\n",
       "old city          0.0000   0.026543  0.113407           0.059317\n",
       "general council   0.0000   0.106174  0.090726           0.057362\n",
       "sur glâne         0.0000   0.000000  0.089470           0.051656\n",
       "new castle        0.0000   0.087254  0.000000           0.050376\n",
       "canton bern       0.0764   0.000000  0.000000           0.044110\n",
       "winter olympics   0.0764   0.000000  0.000000           0.044110"
      ]
     },
     "execution_count": 4,
     "metadata": {},
     "output_type": "execute_result"
    }
   ],
   "source": [
    "df = pd.DataFrame(document_term_matrix.toarray(), columns=vectorizer.get_feature_names_out(), index=[\"Bern\", \"Neuchâtel\", \"Fribourg\"])\n",
    "df = df.transpose()\n",
    "df[\"StandardDeviation\"] = df.std(axis=1)\n",
    "df = df.sort_values(by=\"StandardDeviation\", ascending=False)\n",
    "print(\"Top 10 most distinguishing words:\\n\")\n",
    "df.head(10)"
   ]
  }
 ],
 "metadata": {
  "kernelspec": {
   "display_name": "Python 3 (ipykernel)",
   "language": "python",
   "name": "python3"
  },
  "language_info": {
   "codemirror_mode": {
    "name": "ipython",
    "version": 3
   },
   "file_extension": ".py",
   "mimetype": "text/x-python",
   "name": "python",
   "nbconvert_exporter": "python",
   "pygments_lexer": "ipython3",
   "version": "3.11.10"
  }
 },
 "nbformat": 4,
 "nbformat_minor": 5
}
