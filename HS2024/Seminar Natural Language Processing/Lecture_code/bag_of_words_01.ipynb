{
 "cells": [
  {
   "cell_type": "code",
   "execution_count": 1,
   "id": "feaca302-af4d-4a61-bdd5-5e770d5e4d72",
   "metadata": {},
   "outputs": [],
   "source": [
    "from sklearn.feature_extraction.text import CountVectorizer\n",
    "import wikipedia\n",
    "import numpy as np"
   ]
  },
  {
   "cell_type": "code",
   "execution_count": 2,
   "id": "d3c9d97b-845c-45b0-840c-3e3d34a787de",
   "metadata": {},
   "outputs": [],
   "source": [
    "corpus = [\n",
    "    wikipedia.page(\"Bern, Switzerland\").content,\n",
    "    wikipedia.page(\"Neuchâtel, Switzerland\").content,\n",
    "    wikipedia.page(\"Fribourg, Switzerland\").content,\n",
    "]"
   ]
  },
  {
   "cell_type": "code",
   "execution_count": 3,
   "id": "2d7e2b36-8acf-42f8-8b6e-af7fb89b8711",
   "metadata": {},
   "outputs": [
    {
     "data": {
      "text/plain": [
       "<Compressed Sparse Row sparse matrix of dtype 'int64'\n",
       "\twith 6109 stored elements and shape (3, 4180)>"
      ]
     },
     "execution_count": 3,
     "metadata": {},
     "output_type": "execute_result"
    }
   ],
   "source": [
    "vectorizer = CountVectorizer()\n",
    "document_term_matrix = vectorizer.fit_transform(corpus)\n",
    "document_term_matrix"
   ]
  },
  {
   "cell_type": "code",
   "execution_count": 4,
   "id": "b0aaf3aa-6a22-46ce-851d-16a133e97ee5",
   "metadata": {},
   "outputs": [
    {
     "name": "stdout",
     "output_type": "stream",
     "text": [
      "Some feature names: lac, minimum, country, joseph, open, 1621, rest, recent, entrepreneur, specialized, "
     ]
    }
   ],
   "source": [
    "print(\"Some feature names:\", end=\" \")\n",
    "feature_names = np.random.choice(vectorizer.get_feature_names_out(), 10)\n",
    "for name in feature_names:\n",
    "    print(name, end=\", \")"
   ]
  },
  {
   "cell_type": "code",
   "execution_count": 5,
   "id": "eb6b1332-e8a2-4ef2-be11-894e512f2ff3",
   "metadata": {},
   "outputs": [
    {
     "name": "stdout",
     "output_type": "stream",
     "text": [
      "<Compressed Sparse Row sparse matrix of dtype 'int64'\n",
      "\twith 4 stored elements and shape (1, 4180)>\n",
      "  Coords\tValues\n",
      "  (0, 1902)\t1\n",
      "  (0, 2270)\t1\n",
      "  (0, 2932)\t1\n",
      "  (0, 3801)\t1\n"
     ]
    }
   ],
   "source": [
    "sentence = \"In case of fire, git commit, then exit\"\n",
    "encoding = vectorizer.transform([sentence])\n",
    "print(encoding)"
   ]
  },
  {
   "cell_type": "code",
   "execution_count": 6,
   "id": "4cd4ad08-d36d-4d6c-93aa-89d082c822d1",
   "metadata": {},
   "outputs": [
    {
     "data": {
      "text/plain": [
       "array(['fire', 'in', 'of', 'then'], dtype=object)"
      ]
     },
     "execution_count": 6,
     "metadata": {},
     "output_type": "execute_result"
    }
   ],
   "source": [
    "vectorizer.get_feature_names_out()[[1902, 2270, 2932, 3801]]"
   ]
  }
 ],
 "metadata": {
  "kernelspec": {
   "display_name": "Python 3 (ipykernel)",
   "language": "python",
   "name": "python3"
  },
  "language_info": {
   "codemirror_mode": {
    "name": "ipython",
    "version": 3
   },
   "file_extension": ".py",
   "mimetype": "text/x-python",
   "name": "python",
   "nbconvert_exporter": "python",
   "pygments_lexer": "ipython3",
   "version": "3.11.10"
  }
 },
 "nbformat": 4,
 "nbformat_minor": 5
}
