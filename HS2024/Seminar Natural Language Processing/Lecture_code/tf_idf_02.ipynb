{
 "cells": [
  {
   "cell_type": "code",
   "execution_count": 1,
   "id": "feaca302-af4d-4a61-bdd5-5e770d5e4d72",
   "metadata": {},
   "outputs": [],
   "source": [
    "from sklearn.feature_extraction.text import TfidfVectorizer\n",
    "import wikipedia\n",
    "import pandas as pd"
   ]
  },
  {
   "cell_type": "code",
   "execution_count": 2,
   "id": "d3c9d97b-845c-45b0-840c-3e3d34a787de",
   "metadata": {},
   "outputs": [],
   "source": [
    "corpus = [\n",
    "    wikipedia.page(\"Bern, Switzerland\").content,\n",
    "    wikipedia.page(\"Neuchâtel, Switzerland\").content,\n",
    "    wikipedia.page(\"Fribourg, Switzerland\").content,\n",
    "]"
   ]
  },
  {
   "cell_type": "code",
   "execution_count": 3,
   "id": "2d7e2b36-8acf-42f8-8b6e-af7fb89b8711",
   "metadata": {},
   "outputs": [],
   "source": [
    "vectorizer = TfidfVectorizer(stop_words=\"english\")\n",
    "document_term_matrix = vectorizer.fit_transform(corpus)"
   ]
  },
  {
   "cell_type": "code",
   "execution_count": 4,
   "id": "a7fd1450-6c11-44bc-8557-0b8350a69573",
   "metadata": {},
   "outputs": [
    {
     "name": "stdout",
     "output_type": "stream",
     "text": [
      "Top 10 most distinguishing words:\n",
      "\n"
     ]
    },
    {
     "data": {
      "text/html": [
       "<div>\n",
       "<style scoped>\n",
       "    .dataframe tbody tr th:only-of-type {\n",
       "        vertical-align: middle;\n",
       "    }\n",
       "\n",
       "    .dataframe tbody tr th {\n",
       "        vertical-align: top;\n",
       "    }\n",
       "\n",
       "    .dataframe thead th {\n",
       "        text-align: right;\n",
       "    }\n",
       "</style>\n",
       "<table border=\"1\" class=\"dataframe\">\n",
       "  <thead>\n",
       "    <tr style=\"text-align: right;\">\n",
       "      <th></th>\n",
       "      <th>Bern</th>\n",
       "      <th>Neuchâtel</th>\n",
       "      <th>Fribourg</th>\n",
       "      <th>StandardDeviation</th>\n",
       "    </tr>\n",
       "  </thead>\n",
       "  <tbody>\n",
       "    <tr>\n",
       "      <th>neuchâtel</th>\n",
       "      <td>0.000000</td>\n",
       "      <td>0.836950</td>\n",
       "      <td>0.000000</td>\n",
       "      <td>0.483213</td>\n",
       "    </tr>\n",
       "    <tr>\n",
       "      <th>fribourg</th>\n",
       "      <td>0.006045</td>\n",
       "      <td>0.000000</td>\n",
       "      <td>0.600719</td>\n",
       "      <td>0.345093</td>\n",
       "    </tr>\n",
       "    <tr>\n",
       "      <th>bern</th>\n",
       "      <td>0.610283</td>\n",
       "      <td>0.004225</td>\n",
       "      <td>0.072759</td>\n",
       "      <td>0.331898</td>\n",
       "    </tr>\n",
       "    <tr>\n",
       "      <th>city</th>\n",
       "      <td>0.244113</td>\n",
       "      <td>0.105623</td>\n",
       "      <td>0.299595</td>\n",
       "      <td>0.099902</td>\n",
       "    </tr>\n",
       "    <tr>\n",
       "      <th>swiss</th>\n",
       "      <td>0.248808</td>\n",
       "      <td>0.139423</td>\n",
       "      <td>0.316714</td>\n",
       "      <td>0.089451</td>\n",
       "    </tr>\n",
       "    <tr>\n",
       "      <th>born</th>\n",
       "      <td>0.215946</td>\n",
       "      <td>0.059149</td>\n",
       "      <td>0.106998</td>\n",
       "      <td>0.080358</td>\n",
       "    </tr>\n",
       "    <tr>\n",
       "      <th>sarine</th>\n",
       "      <td>0.000000</td>\n",
       "      <td>0.000000</td>\n",
       "      <td>0.101452</td>\n",
       "      <td>0.058573</td>\n",
       "    </tr>\n",
       "    <tr>\n",
       "      <th>la</th>\n",
       "      <td>0.009389</td>\n",
       "      <td>0.050699</td>\n",
       "      <td>0.115558</td>\n",
       "      <td>0.053518</td>\n",
       "    </tr>\n",
       "    <tr>\n",
       "      <th>students</th>\n",
       "      <td>0.000000</td>\n",
       "      <td>0.038083</td>\n",
       "      <td>0.082668</td>\n",
       "      <td>0.041376</td>\n",
       "    </tr>\n",
       "    <tr>\n",
       "      <th>pupils</th>\n",
       "      <td>0.071536</td>\n",
       "      <td>0.000000</td>\n",
       "      <td>0.000000</td>\n",
       "      <td>0.041301</td>\n",
       "    </tr>\n",
       "  </tbody>\n",
       "</table>\n",
       "</div>"
      ],
      "text/plain": [
       "               Bern  Neuchâtel  Fribourg  StandardDeviation\n",
       "neuchâtel  0.000000   0.836950  0.000000           0.483213\n",
       "fribourg   0.006045   0.000000  0.600719           0.345093\n",
       "bern       0.610283   0.004225  0.072759           0.331898\n",
       "city       0.244113   0.105623  0.299595           0.099902\n",
       "swiss      0.248808   0.139423  0.316714           0.089451\n",
       "born       0.215946   0.059149  0.106998           0.080358\n",
       "sarine     0.000000   0.000000  0.101452           0.058573\n",
       "la         0.009389   0.050699  0.115558           0.053518\n",
       "students   0.000000   0.038083  0.082668           0.041376\n",
       "pupils     0.071536   0.000000  0.000000           0.041301"
      ]
     },
     "execution_count": 4,
     "metadata": {},
     "output_type": "execute_result"
    }
   ],
   "source": [
    "df = pd.DataFrame(document_term_matrix.toarray(), columns=vectorizer.get_feature_names_out(), index=[\"Bern\", \"Neuchâtel\", \"Fribourg\"])\n",
    "df = df.transpose()\n",
    "df[\"StandardDeviation\"] = df.std(axis=1)\n",
    "df = df.sort_values(by=\"StandardDeviation\", ascending=False)\n",
    "print(\"Top 10 most distinguishing words:\\n\")\n",
    "df.head(10)"
   ]
  }
 ],
 "metadata": {
  "kernelspec": {
   "display_name": "Python 3 (ipykernel)",
   "language": "python",
   "name": "python3"
  },
  "language_info": {
   "codemirror_mode": {
    "name": "ipython",
    "version": 3
   },
   "file_extension": ".py",
   "mimetype": "text/x-python",
   "name": "python",
   "nbconvert_exporter": "python",
   "pygments_lexer": "ipython3",
   "version": "3.11.10"
  }
 },
 "nbformat": 4,
 "nbformat_minor": 5
}
