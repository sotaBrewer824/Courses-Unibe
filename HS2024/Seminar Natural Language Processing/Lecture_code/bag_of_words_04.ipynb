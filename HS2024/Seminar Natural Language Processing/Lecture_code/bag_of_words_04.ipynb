{
 "cells": [
  {
   "cell_type": "code",
   "execution_count": 1,
   "id": "feaca302-af4d-4a61-bdd5-5e770d5e4d72",
   "metadata": {},
   "outputs": [],
   "source": [
    "from sklearn.feature_extraction.text import CountVectorizer\n",
    "import wikipedia\n",
    "import pandas as pd"
   ]
  },
  {
   "cell_type": "code",
   "execution_count": 2,
   "id": "d3c9d97b-845c-45b0-840c-3e3d34a787de",
   "metadata": {},
   "outputs": [],
   "source": [
    "corpus = [\n",
    "    wikipedia.page(\"Bern, Switzerland\").content,\n",
    "    wikipedia.page(\"Neuchâtel, Switzerland\").content,\n",
    "    wikipedia.page(\"Fribourg, Switzerland\").content,\n",
    "]"
   ]
  },
  {
   "cell_type": "code",
   "execution_count": 3,
   "id": "2d7e2b36-8acf-42f8-8b6e-af7fb89b8711",
   "metadata": {},
   "outputs": [],
   "source": [
    "vectorizer = CountVectorizer(stop_words=\"english\")\n",
    "document_term_matrix = vectorizer.fit_transform(corpus)"
   ]
  },
  {
   "cell_type": "code",
   "execution_count": 4,
   "id": "a7fd1450-6c11-44bc-8557-0b8350a69573",
   "metadata": {},
   "outputs": [
    {
     "name": "stdout",
     "output_type": "stream",
     "text": [
      "Top 10 most distinguishing words:\n",
      "\n"
     ]
    },
    {
     "data": {
      "text/html": [
       "<div>\n",
       "<style scoped>\n",
       "    .dataframe tbody tr th:only-of-type {\n",
       "        vertical-align: middle;\n",
       "    }\n",
       "\n",
       "    .dataframe tbody tr th {\n",
       "        vertical-align: top;\n",
       "    }\n",
       "\n",
       "    .dataframe thead th {\n",
       "        text-align: right;\n",
       "    }\n",
       "</style>\n",
       "<table border=\"1\" class=\"dataframe\">\n",
       "  <thead>\n",
       "    <tr style=\"text-align: right;\">\n",
       "      <th></th>\n",
       "      <th>Bern</th>\n",
       "      <th>Neuchâtel</th>\n",
       "      <th>Fribourg</th>\n",
       "      <th>StandardDeviation</th>\n",
       "    </tr>\n",
       "  </thead>\n",
       "  <tbody>\n",
       "    <tr>\n",
       "      <th>bern</th>\n",
       "      <td>130</td>\n",
       "      <td>1</td>\n",
       "      <td>17</td>\n",
       "      <td>70.315954</td>\n",
       "    </tr>\n",
       "    <tr>\n",
       "      <th>neuchâtel</th>\n",
       "      <td>0</td>\n",
       "      <td>117</td>\n",
       "      <td>0</td>\n",
       "      <td>67.549981</td>\n",
       "    </tr>\n",
       "    <tr>\n",
       "      <th>fribourg</th>\n",
       "      <td>1</td>\n",
       "      <td>0</td>\n",
       "      <td>109</td>\n",
       "      <td>62.644500</td>\n",
       "    </tr>\n",
       "    <tr>\n",
       "      <th>city</th>\n",
       "      <td>52</td>\n",
       "      <td>25</td>\n",
       "      <td>70</td>\n",
       "      <td>22.649503</td>\n",
       "    </tr>\n",
       "    <tr>\n",
       "      <th>swiss</th>\n",
       "      <td>53</td>\n",
       "      <td>33</td>\n",
       "      <td>74</td>\n",
       "      <td>20.502032</td>\n",
       "    </tr>\n",
       "    <tr>\n",
       "      <th>born</th>\n",
       "      <td>46</td>\n",
       "      <td>14</td>\n",
       "      <td>25</td>\n",
       "      <td>16.258331</td>\n",
       "    </tr>\n",
       "    <tr>\n",
       "      <th>la</th>\n",
       "      <td>2</td>\n",
       "      <td>12</td>\n",
       "      <td>27</td>\n",
       "      <td>12.583057</td>\n",
       "    </tr>\n",
       "    <tr>\n",
       "      <th>house</th>\n",
       "      <td>3</td>\n",
       "      <td>1</td>\n",
       "      <td>16</td>\n",
       "      <td>8.144528</td>\n",
       "    </tr>\n",
       "    <tr>\n",
       "      <th>sarine</th>\n",
       "      <td>0</td>\n",
       "      <td>0</td>\n",
       "      <td>14</td>\n",
       "      <td>8.082904</td>\n",
       "    </tr>\n",
       "    <tr>\n",
       "      <th>switzerland</th>\n",
       "      <td>24</td>\n",
       "      <td>9</td>\n",
       "      <td>15</td>\n",
       "      <td>7.549834</td>\n",
       "    </tr>\n",
       "  </tbody>\n",
       "</table>\n",
       "</div>"
      ],
      "text/plain": [
       "             Bern  Neuchâtel  Fribourg  StandardDeviation\n",
       "bern          130          1        17          70.315954\n",
       "neuchâtel       0        117         0          67.549981\n",
       "fribourg        1          0       109          62.644500\n",
       "city           52         25        70          22.649503\n",
       "swiss          53         33        74          20.502032\n",
       "born           46         14        25          16.258331\n",
       "la              2         12        27          12.583057\n",
       "house           3          1        16           8.144528\n",
       "sarine          0          0        14           8.082904\n",
       "switzerland    24          9        15           7.549834"
      ]
     },
     "execution_count": 4,
     "metadata": {},
     "output_type": "execute_result"
    }
   ],
   "source": [
    "df = pd.DataFrame(document_term_matrix.toarray(), columns=vectorizer.get_feature_names_out(), index=[\"Bern\", \"Neuchâtel\", \"Fribourg\"])\n",
    "df = df.transpose()\n",
    "df[\"StandardDeviation\"] = df.std(axis=1)\n",
    "df = df.sort_values(by=\"StandardDeviation\", ascending=False)\n",
    "print(\"Top 10 most distinguishing words:\\n\")\n",
    "df.head(10)"
   ]
  }
 ],
 "metadata": {
  "kernelspec": {
   "display_name": "Python 3 (ipykernel)",
   "language": "python",
   "name": "python3"
  },
  "language_info": {
   "codemirror_mode": {
    "name": "ipython",
    "version": 3
   },
   "file_extension": ".py",
   "mimetype": "text/x-python",
   "name": "python",
   "nbconvert_exporter": "python",
   "pygments_lexer": "ipython3",
   "version": "3.11.10"
  }
 },
 "nbformat": 4,
 "nbformat_minor": 5
}
