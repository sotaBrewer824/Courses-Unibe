{
 "cells": [
  {
   "cell_type": "code",
   "execution_count": 1,
   "id": "feaca302-af4d-4a61-bdd5-5e770d5e4d72",
   "metadata": {},
   "outputs": [],
   "source": [
    "from sklearn.feature_extraction.text import CountVectorizer\n",
    "import wikipedia\n",
    "import pandas as pd"
   ]
  },
  {
   "cell_type": "code",
   "execution_count": 2,
   "id": "d3c9d97b-845c-45b0-840c-3e3d34a787de",
   "metadata": {},
   "outputs": [],
   "source": [
    "corpus = [\n",
    "    wikipedia.page(\"Bern, Switzerland\").content,\n",
    "    wikipedia.page(\"Neuchâtel, Switzerland\").content,\n",
    "    wikipedia.page(\"Fribourg, Switzerland\").content,\n",
    "]"
   ]
  },
  {
   "cell_type": "code",
   "execution_count": 3,
   "id": "2d7e2b36-8acf-42f8-8b6e-af7fb89b8711",
   "metadata": {},
   "outputs": [],
   "source": [
    "vectorizer = CountVectorizer()\n",
    "document_term_matrix = vectorizer.fit_transform(corpus)"
   ]
  },
  {
   "cell_type": "code",
   "execution_count": 4,
   "id": "a7fd1450-6c11-44bc-8557-0b8350a69573",
   "metadata": {},
   "outputs": [
    {
     "name": "stdout",
     "output_type": "stream",
     "text": [
      "Top 10 most frequent words:\n",
      "\n"
     ]
    },
    {
     "data": {
      "text/html": [
       "<div>\n",
       "<style scoped>\n",
       "    .dataframe tbody tr th:only-of-type {\n",
       "        vertical-align: middle;\n",
       "    }\n",
       "\n",
       "    .dataframe tbody tr th {\n",
       "        vertical-align: top;\n",
       "    }\n",
       "\n",
       "    .dataframe thead th {\n",
       "        text-align: right;\n",
       "    }\n",
       "</style>\n",
       "<table border=\"1\" class=\"dataframe\">\n",
       "  <thead>\n",
       "    <tr style=\"text-align: right;\">\n",
       "      <th></th>\n",
       "      <th>Bern</th>\n",
       "      <th>Neuchâtel</th>\n",
       "      <th>Fribourg</th>\n",
       "      <th>Combined</th>\n",
       "    </tr>\n",
       "  </thead>\n",
       "  <tbody>\n",
       "    <tr>\n",
       "      <th>the</th>\n",
       "      <td>522</td>\n",
       "      <td>447</td>\n",
       "      <td>603</td>\n",
       "      <td>1572</td>\n",
       "    </tr>\n",
       "    <tr>\n",
       "      <th>of</th>\n",
       "      <td>310</td>\n",
       "      <td>273</td>\n",
       "      <td>326</td>\n",
       "      <td>909</td>\n",
       "    </tr>\n",
       "    <tr>\n",
       "      <th>and</th>\n",
       "      <td>184</td>\n",
       "      <td>182</td>\n",
       "      <td>239</td>\n",
       "      <td>605</td>\n",
       "    </tr>\n",
       "    <tr>\n",
       "      <th>in</th>\n",
       "      <td>166</td>\n",
       "      <td>164</td>\n",
       "      <td>193</td>\n",
       "      <td>523</td>\n",
       "    </tr>\n",
       "    <tr>\n",
       "      <th>to</th>\n",
       "      <td>70</td>\n",
       "      <td>82</td>\n",
       "      <td>89</td>\n",
       "      <td>241</td>\n",
       "    </tr>\n",
       "    <tr>\n",
       "      <th>is</th>\n",
       "      <td>74</td>\n",
       "      <td>68</td>\n",
       "      <td>72</td>\n",
       "      <td>214</td>\n",
       "    </tr>\n",
       "    <tr>\n",
       "      <th>was</th>\n",
       "      <td>60</td>\n",
       "      <td>76</td>\n",
       "      <td>74</td>\n",
       "      <td>210</td>\n",
       "    </tr>\n",
       "    <tr>\n",
       "      <th>were</th>\n",
       "      <td>66</td>\n",
       "      <td>68</td>\n",
       "      <td>67</td>\n",
       "      <td>201</td>\n",
       "    </tr>\n",
       "    <tr>\n",
       "      <th>or</th>\n",
       "      <td>61</td>\n",
       "      <td>55</td>\n",
       "      <td>61</td>\n",
       "      <td>177</td>\n",
       "    </tr>\n",
       "    <tr>\n",
       "      <th>swiss</th>\n",
       "      <td>53</td>\n",
       "      <td>33</td>\n",
       "      <td>74</td>\n",
       "      <td>160</td>\n",
       "    </tr>\n",
       "  </tbody>\n",
       "</table>\n",
       "</div>"
      ],
      "text/plain": [
       "       Bern  Neuchâtel  Fribourg  Combined\n",
       "the     522        447       603      1572\n",
       "of      310        273       326       909\n",
       "and     184        182       239       605\n",
       "in      166        164       193       523\n",
       "to       70         82        89       241\n",
       "is       74         68        72       214\n",
       "was      60         76        74       210\n",
       "were     66         68        67       201\n",
       "or       61         55        61       177\n",
       "swiss    53         33        74       160"
      ]
     },
     "execution_count": 4,
     "metadata": {},
     "output_type": "execute_result"
    }
   ],
   "source": [
    "df = pd.DataFrame(document_term_matrix.toarray(), columns=vectorizer.get_feature_names_out(), index=[\"Bern\", \"Neuchâtel\", \"Fribourg\"])\n",
    "df = df.transpose()\n",
    "df[\"Combined\"] = df.sum(axis=1)\n",
    "df = df.sort_values(by=\"Combined\", ascending=False)\n",
    "print(\"Top 10 most frequent words:\\n\")\n",
    "df.head(10)"
   ]
  }
 ],
 "metadata": {
  "kernelspec": {
   "display_name": "Python 3 (ipykernel)",
   "language": "python",
   "name": "python3"
  },
  "language_info": {
   "codemirror_mode": {
    "name": "ipython",
    "version": 3
   },
   "file_extension": ".py",
   "mimetype": "text/x-python",
   "name": "python",
   "nbconvert_exporter": "python",
   "pygments_lexer": "ipython3",
   "version": "3.11.10"
  }
 },
 "nbformat": 4,
 "nbformat_minor": 5
}
