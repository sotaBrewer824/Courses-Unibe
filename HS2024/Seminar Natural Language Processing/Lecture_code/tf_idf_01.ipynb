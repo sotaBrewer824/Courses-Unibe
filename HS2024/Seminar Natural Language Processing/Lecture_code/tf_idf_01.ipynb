{
 "cells": [
  {
   "cell_type": "code",
   "execution_count": 1,
   "id": "feaca302-af4d-4a61-bdd5-5e770d5e4d72",
   "metadata": {},
   "outputs": [],
   "source": [
    "from sklearn.feature_extraction.text import TfidfVectorizer\n",
    "import wikipedia\n",
    "import pandas as pd"
   ]
  },
  {
   "cell_type": "code",
   "execution_count": 2,
   "id": "d3c9d97b-845c-45b0-840c-3e3d34a787de",
   "metadata": {},
   "outputs": [],
   "source": [
    "corpus = [\n",
    "    wikipedia.page(\"Bern, Switzerland\").content,\n",
    "    wikipedia.page(\"Neuchâtel, Switzerland\").content,\n",
    "    wikipedia.page(\"Fribourg, Switzerland\").content,\n",
    "]"
   ]
  },
  {
   "cell_type": "code",
   "execution_count": 3,
   "id": "2d7e2b36-8acf-42f8-8b6e-af7fb89b8711",
   "metadata": {},
   "outputs": [],
   "source": [
    "vectorizer = TfidfVectorizer(stop_words=\"english\")\n",
    "document_term_matrix = vectorizer.fit_transform(corpus)"
   ]
  },
  {
   "cell_type": "code",
   "execution_count": 4,
   "id": "a7fd1450-6c11-44bc-8557-0b8350a69573",
   "metadata": {},
   "outputs": [
    {
     "name": "stdout",
     "output_type": "stream",
     "text": [
      "Top 10 words with the highest combined TF-IDF:\n",
      "\n"
     ]
    },
    {
     "data": {
      "text/html": [
       "<div>\n",
       "<style scoped>\n",
       "    .dataframe tbody tr th:only-of-type {\n",
       "        vertical-align: middle;\n",
       "    }\n",
       "\n",
       "    .dataframe tbody tr th {\n",
       "        vertical-align: top;\n",
       "    }\n",
       "\n",
       "    .dataframe thead th {\n",
       "        text-align: right;\n",
       "    }\n",
       "</style>\n",
       "<table border=\"1\" class=\"dataframe\">\n",
       "  <thead>\n",
       "    <tr style=\"text-align: right;\">\n",
       "      <th></th>\n",
       "      <th>Bern</th>\n",
       "      <th>Neuchâtel</th>\n",
       "      <th>Fribourg</th>\n",
       "      <th>Combined</th>\n",
       "    </tr>\n",
       "  </thead>\n",
       "  <tbody>\n",
       "    <tr>\n",
       "      <th>neuchâtel</th>\n",
       "      <td>0.000000</td>\n",
       "      <td>0.836950</td>\n",
       "      <td>0.000000</td>\n",
       "      <td>0.278983</td>\n",
       "    </tr>\n",
       "    <tr>\n",
       "      <th>swiss</th>\n",
       "      <td>0.248808</td>\n",
       "      <td>0.139423</td>\n",
       "      <td>0.316714</td>\n",
       "      <td>0.234982</td>\n",
       "    </tr>\n",
       "    <tr>\n",
       "      <th>bern</th>\n",
       "      <td>0.610283</td>\n",
       "      <td>0.004225</td>\n",
       "      <td>0.072759</td>\n",
       "      <td>0.229089</td>\n",
       "    </tr>\n",
       "    <tr>\n",
       "      <th>city</th>\n",
       "      <td>0.244113</td>\n",
       "      <td>0.105623</td>\n",
       "      <td>0.299595</td>\n",
       "      <td>0.216444</td>\n",
       "    </tr>\n",
       "    <tr>\n",
       "      <th>fribourg</th>\n",
       "      <td>0.006045</td>\n",
       "      <td>0.000000</td>\n",
       "      <td>0.600719</td>\n",
       "      <td>0.202255</td>\n",
       "    </tr>\n",
       "    <tr>\n",
       "      <th>born</th>\n",
       "      <td>0.215946</td>\n",
       "      <td>0.059149</td>\n",
       "      <td>0.106998</td>\n",
       "      <td>0.127365</td>\n",
       "    </tr>\n",
       "    <tr>\n",
       "      <th>population</th>\n",
       "      <td>0.131446</td>\n",
       "      <td>0.092948</td>\n",
       "      <td>0.124118</td>\n",
       "      <td>0.116171</td>\n",
       "    </tr>\n",
       "    <tr>\n",
       "      <th>council</th>\n",
       "      <td>0.098584</td>\n",
       "      <td>0.080274</td>\n",
       "      <td>0.102718</td>\n",
       "      <td>0.093859</td>\n",
       "    </tr>\n",
       "    <tr>\n",
       "      <th>century</th>\n",
       "      <td>0.079806</td>\n",
       "      <td>0.046474</td>\n",
       "      <td>0.106998</td>\n",
       "      <td>0.077760</td>\n",
       "    </tr>\n",
       "    <tr>\n",
       "      <th>municipality</th>\n",
       "      <td>0.070417</td>\n",
       "      <td>0.063374</td>\n",
       "      <td>0.085599</td>\n",
       "      <td>0.073130</td>\n",
       "    </tr>\n",
       "  </tbody>\n",
       "</table>\n",
       "</div>"
      ],
      "text/plain": [
       "                  Bern  Neuchâtel  Fribourg  Combined\n",
       "neuchâtel     0.000000   0.836950  0.000000  0.278983\n",
       "swiss         0.248808   0.139423  0.316714  0.234982\n",
       "bern          0.610283   0.004225  0.072759  0.229089\n",
       "city          0.244113   0.105623  0.299595  0.216444\n",
       "fribourg      0.006045   0.000000  0.600719  0.202255\n",
       "born          0.215946   0.059149  0.106998  0.127365\n",
       "population    0.131446   0.092948  0.124118  0.116171\n",
       "council       0.098584   0.080274  0.102718  0.093859\n",
       "century       0.079806   0.046474  0.106998  0.077760\n",
       "municipality  0.070417   0.063374  0.085599  0.073130"
      ]
     },
     "execution_count": 4,
     "metadata": {},
     "output_type": "execute_result"
    }
   ],
   "source": [
    "df = pd.DataFrame(document_term_matrix.toarray(), columns=vectorizer.get_feature_names_out(), index=[\"Bern\", \"Neuchâtel\", \"Fribourg\"])\n",
    "df = df.transpose()\n",
    "df[\"Combined\"] = df.sum(axis=1) / 3\n",
    "df = df.sort_values(by=\"Combined\", ascending=False)\n",
    "print(\"Top 10 words with the highest combined TF-IDF:\\n\")\n",
    "df.head(10)"
   ]
  }
 ],
 "metadata": {
  "kernelspec": {
   "display_name": "Python 3 (ipykernel)",
   "language": "python",
   "name": "python3"
  },
  "language_info": {
   "codemirror_mode": {
    "name": "ipython",
    "version": 3
   },
   "file_extension": ".py",
   "mimetype": "text/x-python",
   "name": "python",
   "nbconvert_exporter": "python",
   "pygments_lexer": "ipython3",
   "version": "3.11.10"
  }
 },
 "nbformat": 4,
 "nbformat_minor": 5
}
